{
 "cells": [
  {
   "cell_type": "markdown",
   "metadata": {},
   "source": [
    "# Case Study : BigMac Index\n",
    "<br>\n",
    " The data is taken from the forecasting currency exchange rate on cost of living in indiviual country.\n",
    " The excel sheet have Big mac price and Hourly wages in USD Dollars from 27 countries."
   ]
  },
  {
   "cell_type": "markdown",
   "metadata": {},
   "source": [
    "- From this data, I have solved this following questions\n",
    "<br>\n",
    "1. Is there a relationship between the price of BigMac and the net hourly wages of workers around the world?\n",
    "2. Is it possible to develop the model to predict or determine the net hourly wage of worker around the world by theprice of a BigMac in country. If so? how good is the model?\n",
    "3. If a model can be constructed to determine the net hourly wages of a worker aroound the world by the price of BigMac, what would be the predicted net hourly wage of worker in a country, if the price of BigMac is $3.00?"
   ]
  },
  {
   "cell_type": "markdown",
   "metadata": {},
   "source": [
    "## Machine Learning: Linear Regression Model \n",
    "- Hypothesis (*t* Distribution)\n",
    "- F Statistics\n",
    "- R square "
   ]
  },
  {
   "cell_type": "code",
   "execution_count": 51,
   "metadata": {},
   "outputs": [],
   "source": [
    "import pandas as pd #Pannel Dataset\n",
    "import numpy as np #Numerical Dataset"
   ]
  },
  {
   "cell_type": "code",
   "execution_count": 52,
   "metadata": {},
   "outputs": [
    {
     "data": {
      "text/html": [
       "<div>\n",
       "<style scoped>\n",
       "    .dataframe tbody tr th:only-of-type {\n",
       "        vertical-align: middle;\n",
       "    }\n",
       "\n",
       "    .dataframe tbody tr th {\n",
       "        vertical-align: top;\n",
       "    }\n",
       "\n",
       "    .dataframe thead th {\n",
       "        text-align: right;\n",
       "    }\n",
       "</style>\n",
       "<table border=\"1\" class=\"dataframe\">\n",
       "  <thead>\n",
       "    <tr style=\"text-align: right;\">\n",
       "      <th></th>\n",
       "      <th>big_mac_price</th>\n",
       "      <th>hourly_wages_usd</th>\n",
       "    </tr>\n",
       "  </thead>\n",
       "  <tbody>\n",
       "    <tr>\n",
       "      <th>0</th>\n",
       "      <td>1.42</td>\n",
       "      <td>1.70</td>\n",
       "    </tr>\n",
       "    <tr>\n",
       "      <th>1</th>\n",
       "      <td>1.86</td>\n",
       "      <td>7.80</td>\n",
       "    </tr>\n",
       "    <tr>\n",
       "      <th>2</th>\n",
       "      <td>1.48</td>\n",
       "      <td>2.05</td>\n",
       "    </tr>\n",
       "    <tr>\n",
       "      <th>3</th>\n",
       "      <td>3.14</td>\n",
       "      <td>12.30</td>\n",
       "    </tr>\n",
       "    <tr>\n",
       "      <th>4</th>\n",
       "      <td>2.21</td>\n",
       "      <td>9.35</td>\n",
       "    </tr>\n",
       "  </tbody>\n",
       "</table>\n",
       "</div>"
      ],
      "text/plain": [
       "   big_mac_price  hourly_wages_usd\n",
       "0           1.42              1.70\n",
       "1           1.86              7.80\n",
       "2           1.48              2.05\n",
       "3           3.14             12.30\n",
       "4           2.21              9.35"
      ]
     },
     "execution_count": 52,
     "metadata": {},
     "output_type": "execute_result"
    }
   ],
   "source": [
    "#LOADING THE DATA\n",
    "file = \"big_mac.xlsx\"\n",
    "df  = pd.read_excel(file)\n",
    "#print(df)\n",
    "df.head()"
   ]
  },
  {
   "cell_type": "code",
   "execution_count": 53,
   "metadata": {},
   "outputs": [],
   "source": [
    "#CREATING SCATTERPLOT FOR LINEAR REGRESSION\n",
    "import matplotlib.pyplot as plt #(Basic Visualization library)\n",
    "#import seaborn as sns (Advance visualization library)"
   ]
  },
  {
   "cell_type": "code",
   "execution_count": 54,
   "metadata": {},
   "outputs": [
    {
     "data": {
      "image/png": "[encoded data removed]",
      "text/plain": [
       "<Figure size 432x288 with 1 Axes>"
      ]
     },
     "metadata": {
      "needs_background": "light"
     },
     "output_type": "display_data"
    }
   ],
   "source": [
    "plot = plt.scatter(x = 'hourly_wages_usd' , y = 'big_mac_price' ,data = df)\n",
    "plt.show()"
   ]
  },
  {
   "cell_type": "markdown",
   "metadata": {},
   "source": [
    "### Linear Regression\n",
    "- Stats model Library in Python\n",
    "\n",
    "  -Using stats model we can able to build linear regression"
   ]
  },
  {
   "cell_type": "code",
   "execution_count": 55,
   "metadata": {},
   "outputs": [],
   "source": [
    "import statsmodels.api as sm"
   ]
  },
  {
   "cell_type": "code",
   "execution_count": 56,
   "metadata": {
    "scrolled": true
   },
   "outputs": [
    {
     "name": "stdout",
     "output_type": "stream",
     "text": [
      "                            OLS Regression Results                            \n",
      "==============================================================================\n",
      "Dep. Variable:       hourly_wages_usd   R-squared:                       0.662\n",
      "Model:                            OLS   Adj. R-squared:                  0.648\n",
      "Method:                 Least Squares   F-statistic:                     48.88\n",
      "Date:                Tue, 29 Jun 2021   Prob (F-statistic):           2.50e-07\n",
      "Time:                        01:27:05   Log-Likelihood:                -66.251\n",
      "No. Observations:                  27   AIC:                             136.5\n",
      "Df Residuals:                      25   BIC:                             139.1\n",
      "Df Model:                           1                                         \n",
      "Covariance Type:            nonrobust                                         \n",
      "=================================================================================\n",
      "                    coef    std err          t      P>|t|      [0.025      0.975]\n",
      "---------------------------------------------------------------------------------\n",
      "Intercept        -4.5397      1.619     -2.805      0.010      -7.873      -1.206\n",
      "big_mac_price     4.7435      0.678      6.991      0.000       3.346       6.141\n",
      "==============================================================================\n",
      "Omnibus:                        5.597   Durbin-Watson:                   2.151\n",
      "Prob(Omnibus):                  0.061   Jarque-Bera (JB):                3.761\n",
      "Skew:                           0.829   Prob(JB):                        0.153\n",
      "Kurtosis:                       3.771   Cond. No.                         7.94\n",
      "==============================================================================\n",
      "\n",
      "Warnings:\n",
      "[1] Standard Errors assume that the covariance matrix of the errors is correctly specified.\n"
     ]
    }
   ],
   "source": [
    "#Ordinary Least Square Regression\n",
    "model = sm.OLS.from_formula('hourly_wages_usd ~ big_mac_price', data = df).fit()\n",
    "print(model.summary())"
   ]
  },
  {
   "cell_type": "markdown",
   "metadata": {},
   "source": [
    "### Define Degree of Freedom\n",
    "- No. of observation = No. of samples = n = 27 (why? = 27 countries) \n",
    "- degree of freedom Model = No. of independent variables(Big_mac_price) = k = 1 \n",
    "- degree of freedom Residuals = n - 1 - k = 25\n",
    "- the dependent variable is hourly_wages_usd"
   ]
  },
  {
   "cell_type": "markdown",
   "metadata": {},
   "source": [
    "### Significance of co-efficient\n",
    "(Means: the value which we got of intercept and big_mac_price is really significant or not.)\n",
    "- Performing hypothesis testing since the estimated value we are predicting is mean\n",
    "- Hence the coefficient falls under the *t* distribution\n",
    "- Generally 95% of significance(bulk region) and alpha = 2.5% is considered and it is also called critical region.\n",
    "\n",
    "### **key-points** \n",
    "\n",
    "H<sub>0</sub> = Null Hypothesis (Not Significant) near to 0\n",
    "\n",
    "> P is nearly equal to 0\n",
    "\n",
    "H<sub>A</sub> = Altenate  Hypothesis (Significant) !=0\n",
    "\n",
    "> T value is far away from 0"
   ]
  },
  {
   "cell_type": "markdown",
   "metadata": {},
   "source": [
    "## Results of Hypothesis:\n",
    "\n"
   ]
  },
  {
   "cell_type": "markdown",
   "metadata": {},
   "source": [
    "*Result 1*<br>\n",
    "\n",
    "<table>\n",
    "<thead>\n",
    "<tr><th></th><th>coef</th><th>std err</th><th>t</th><th>P>|t|</th></tr>\n",
    "</thead>\n",
    "<tbody>\n",
    "<tr><td>Intercept</td><td> -4.5397</td><td>1.619</td><td>-2.805</td><td>0.010</td></tr>\n",
    "</tbody>\n",
    "</table>\n",
    "p - value = 0.01 < 0.025 {Left}\n",
    "<br>\n",
    "Hence, Intercept has a significance and has a relationship in extracting the the net hourly_wages_usd from big mac."
   ]
  },
  {
   "cell_type": "markdown",
   "metadata": {},
   "source": [
    "*Result 2*<br>\n",
    "\n",
    "<table>\n",
    "<thead>\n",
    "<tr><th></th><th>coef</th><th>std err</th><th>t</th><th>P>|t|</th></tr>\n",
    "</thead>\n",
    "<tbody>\n",
    "<tr><td>big_mac_price</td><td> 4.7435</td><td>0.678</td><td>6.991</td><td>0.00</td></tr>\n",
    "</tbody>\n",
    "</table>\n",
    "t - value = 0.000 < 0.025 {Right}\n",
    "<br>\n",
    "Hence,Big Mac has a very much significance for extracting relationship between independent and dependent variable."
   ]
  },
  {
   "cell_type": "markdown",
   "metadata": {},
   "source": [
    "\n",
    "### Hourly_wages = -4.5397 + 4.7435 * Big_mac_price\n",
    "<br>\n",
    "Hence, the Equation for model is also significant"
   ]
  },
  {
   "cell_type": "code",
   "execution_count": 57,
   "metadata": {},
   "outputs": [],
   "source": [
    "#FITTED VALUES\n",
    "net_hourly_wages_predict = -4.5397 + 4.7435 * df['big_mac_price']"
   ]
  },
  {
   "cell_type": "code",
   "execution_count": 58,
   "metadata": {
    "scrolled": false
   },
   "outputs": [
    {
     "data": {
      "image/png": "[encoded data removed]",
      "text/plain": [
       "<Figure size 432x288 with 1 Axes>"
      ]
     },
     "metadata": {
      "needs_background": "light"
     },
     "output_type": "display_data"
    }
   ],
   "source": [
    "plot1 = plt.scatter(x = 'big_mac_price', y = 'hourly_wages_usd', data = df)\n",
    "#creating a traight line in plot\n",
    "plt.plot(df['big_mac_price'], net_hourly_wages_predict,'r-')\n",
    "plt.show()"
   ]
  },
  {
   "cell_type": "markdown",
   "metadata": {},
   "source": [
    "### Undertanding the signifance of model through ANOVA (ANalysis Of VAriance)\n",
    "- Scatterpot: Red straight line is a fitted value and blue dots are the true observations.\n",
    "<br>\n",
    "\n",
    "**Is the variance of *fitted value* and *true value* are equal?**\n",
    "\n",
    "- We got three answers\n",
    " - Total variance (SST) {Sum of square total : True values}\n",
    " - With the variance (SSR) {Sum of square : Regression}\n",
    " - Between the variance (SSE) {Sum of square : error(Between true and fitted values)}\n",
    "\n",
    "<br>\n",
    "\n",
    "Once we calculated all the variance, we can calculate statistics.\n",
    "<br>\n",
    "Formula:\n",
    "<br>\n",
    "\n",
    "F-statistics = (SSR/d *f* <sub>ssr</sub>)//(SSE/d *f* <sub>sse</sub>)\n",
    "<br> **Note:**<br>\n",
    "d *f* <sub>ssr</sub> = k <br>\n",
    "d *f* <sub>sse</sub> = n-1-k\n",
    "<br>\n",
    "**How strong is the model?**\n",
    "<br>\n",
    "R<sub> *square* </sub> = 1 - SSE/SST\n",
    "<br>\n",
    "- Testing under variance of sample : *F* Distribution\n",
    "<br>\n",
    "\n",
    "H<sub>0</sub> = Null Hypothesis - 95%(Bulk region)\n",
    "\n",
    ">The error between the two samples are very high and hence two samples are not equal\n",
    "\n",
    "H<sub>A</sub> = Altenate  Hypothesis - 5% (Critical Region)\n",
    "\n",
    ">The error between the two variance is low hence, two samples are equal\n",
    "\n"
   ]
  },
  {
   "cell_type": "markdown",
   "metadata": {},
   "source": [
    "## Result of F statistics:\n",
    "\n",
    "*Result*<br>\n",
    "\n",
    "<table>\n",
    "<thead>\n",
    "<tr></tr>\n",
    "</thead>\n",
    "<tbody>\n",
    "<tr><td>R-Squared</td><td> 0.662</td></tr>\n",
    "<tr><td>Prob (F-statistic)</td><td>2.50e-07</td></tr>\n",
    "</tbody>\n",
    "</table>\n",
    "P-value = 2.50 + 10<sup>7</sup> < 0.025 <br>\n",
    "It comes in critical region so, the model is significant"
   ]
  },
  {
   "cell_type": "markdown",
   "metadata": {},
   "source": [
    "##### CALCULATING F-STATISTICIS MANUALLY [ANOVA]\n",
    "<br>\n",
    "- F - statistics = $ & \\frac{(sse / df_ssr)}{(sse / df_sse)} $"
   ]
  },
  {
   "cell_type": "code",
   "execution_count": 59,
   "metadata": {
    "scrolled": true
   },
   "outputs": [],
   "source": [
    "ssr = np.sum(np.square(net_hourly_wages_predict - net_hourly_wages_predict.mean()))\n",
    "sse = np.sum(np.square(net_hourly_wages_predict - df['hourly_wages_usd'].values))"
   ]
  },
  {
   "cell_type": "code",
   "execution_count": 60,
   "metadata": {},
   "outputs": [
    {
     "data": {
      "text/plain": [
       "(213.88429646337502, 418.1817241247)"
      ]
     },
     "execution_count": 60,
     "metadata": {},
     "output_type": "execute_result"
    }
   ],
   "source": [
    "sse, ssr"
   ]
  },
  {
   "cell_type": "code",
   "execution_count": 61,
   "metadata": {},
   "outputs": [],
   "source": [
    "df_ssr = 1 #k = No. of independent variables\n",
    "df_sse = 27 - 1 - df_ssr # n - 1 - k : no. of samples"
   ]
  },
  {
   "cell_type": "code",
   "execution_count": 62,
   "metadata": {},
   "outputs": [
    {
     "data": {
      "text/plain": [
       "48.879432833479235"
      ]
     },
     "execution_count": 62,
     "metadata": {},
     "output_type": "execute_result"
    }
   ],
   "source": [
    "f_stats = (ssr/df_ssr)/(sse/df_sse)\n",
    "f_stats"
   ]
  },
  {
   "cell_type": "code",
   "execution_count": 63,
   "metadata": {},
   "outputs": [
    {
     "name": "stdout",
     "output_type": "stream",
     "text": [
      "R Square Value =  0.6616108294124452\n"
     ]
    }
   ],
   "source": [
    "## R_SQUARE \n",
    "sst = sse + ssr\n",
    "r_square = 1 - (sse/sst)\n",
    "print('R Square Value = ', r_square)\n",
    "#Check results with OLS sheet"
   ]
  },
  {
   "cell_type": "code",
   "execution_count": 64,
   "metadata": {},
   "outputs": [
    {
     "data": {
      "text/html": [
       "<div>\n",
       "<style scoped>\n",
       "    .dataframe tbody tr th:only-of-type {\n",
       "        vertical-align: middle;\n",
       "    }\n",
       "\n",
       "    .dataframe tbody tr th {\n",
       "        vertical-align: top;\n",
       "    }\n",
       "\n",
       "    .dataframe thead th {\n",
       "        text-align: right;\n",
       "    }\n",
       "</style>\n",
       "<table border=\"1\" class=\"dataframe\">\n",
       "  <thead>\n",
       "    <tr style=\"text-align: right;\">\n",
       "      <th></th>\n",
       "      <th>big_mac_price</th>\n",
       "      <th>hourly_wages_usd</th>\n",
       "    </tr>\n",
       "  </thead>\n",
       "  <tbody>\n",
       "    <tr>\n",
       "      <th>big_mac_price</th>\n",
       "      <td>1.000000</td>\n",
       "      <td>0.813396</td>\n",
       "    </tr>\n",
       "    <tr>\n",
       "      <th>hourly_wages_usd</th>\n",
       "      <td>0.813396</td>\n",
       "      <td>1.000000</td>\n",
       "    </tr>\n",
       "  </tbody>\n",
       "</table>\n",
       "</div>"
      ],
      "text/plain": [
       "                  big_mac_price  hourly_wages_usd\n",
       "big_mac_price          1.000000          0.813396\n",
       "hourly_wages_usd       0.813396          1.000000"
      ]
     },
     "execution_count": 64,
     "metadata": {},
     "output_type": "execute_result"
    }
   ],
   "source": [
    "#Correlation\n",
    "df.corr()"
   ]
  },
  {
   "cell_type": "code",
   "execution_count": 65,
   "metadata": {},
   "outputs": [
    {
     "data": {
      "text/plain": [
       "0.661613052816"
      ]
     },
     "execution_count": 65,
     "metadata": {},
     "output_type": "execute_result"
    }
   ],
   "source": [
    "# Answer 2\n",
    "np.square(0.813396) #method 2"
   ]
  },
  {
   "cell_type": "code",
   "execution_count": 66,
   "metadata": {},
   "outputs": [
    {
     "data": {
      "text/plain": [
       "9.6908"
      ]
     },
     "execution_count": 66,
     "metadata": {},
     "output_type": "execute_result"
    }
   ],
   "source": [
    "# Answer 3\n",
    "net_hourly_wages_predict = -4.5397 + 4.7435 * 3\n",
    "net_hourly_wages_predict"
   ]
  },
  {
   "cell_type": "markdown",
   "metadata": {},
   "source": [
    "### Answers:\n",
    "<br>\n",
    "-Hypothesis\n",
    "\n",
    "> Yes there is a relationship, 0.8133 is the correlation values.\n",
    "\n",
    "<br>\n",
    "\n",
    "-F statistics\n",
    "\n",
    "> Yes, you can develop the model since f- stats value is significant. and model is 66.16 is the strenght of model\n",
    "\n",
    "<br>\n",
    "\n",
    "-Fitted values\n",
    "\n",
    "> 9.6908"
   ]
  },
  {
   "cell_type": "code",
   "execution_count": null,
   "metadata": {},
   "outputs": [],
   "source": []
  }
 ],
 "metadata": {
  "kernelspec": {
   "display_name": "Python 3",
   "language": "python",
   "name": "python3"
  },
  "language_info": {
   "codemirror_mode": {
    "name": "ipython",
    "version": 3
   },
   "file_extension": ".py",
   "mimetype": "text/x-python",
   "name": "python",
   "nbconvert_exporter": "python",
   "pygments_lexer": "ipython3",
   "version": "3.7.6"
  }
 },
 "nbformat": 4,
 "nbformat_minor": 4
}
